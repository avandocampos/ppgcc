{
 "cells": [
  {
   "cell_type": "markdown",
   "id": "78f1c565",
   "metadata": {},
   "source": [
    "# Processamento de Imagens com Python\n",
    "\n",
    "Este notebook demonstra a aplicação de várias técnicas de processamento de imagens usando Python. As técnicas abordadas incluem:\n",
    "\n",
    "1. Filtragem (espacial ou na frequência)\n",
    "2. Morfologia Matemática (Erosão e dilatação)\n",
    "3. Limiarização por média móvel\n",
    "4. Crescimento de regiões\n",
    "5. Watershed\n",
    "6. Transformada de Hough\n",
    "\n",
    "Cada seção contém uma breve descrição da técnica, seguida pelo código de implementação."
   ]
  },
  {
   "cell_type": "markdown",
   "id": "19841c42",
   "metadata": {},
   "source": [
    "## 1. Filtragem (Espacial ou na Frequência)\n",
    "\n",
    "A filtragem é uma técnica utilizada para realçar ou suavizar características de uma imagem. Os filtros podem ser aplicados no domínio espacial, onde a operação é realizada diretamente sobre os pixels da imagem, ou no domínio da frequência, onde a imagem é transformada para o espaço de frequência antes da aplicação do filtro."
   ]
  },
  {
   "cell_type": "code",
   "execution_count": 10,
   "id": "41d74d19",
   "metadata": {},
   "outputs": [],
   "source": [
    "from skimage import io, img_as_ubyte\n",
    "from filtering import *\n",
    "\n",
    "image_path = 'images/lena.png'\n",
    "image = io.imread(image_path, as_gray=True)\n",
    "\n",
    "result_image = gaussian_filter(image, 5, 1.4)\n",
    "result_image_uint8 = img_as_ubyte(result_image)\n",
    "\n",
    "io.imsave('images/lena_gaussian.png', result_image_uint8)\n"
   ]
  },
  {
   "cell_type": "code",
   "execution_count": 15,
   "id": "3785ef1d",
   "metadata": {},
   "outputs": [],
   "source": [
    "from skimage import io, img_as_ubyte\n",
    "from filtering import *\n",
    "\n",
    "image_path = 'images/saltandpepperlena.jpg'\n",
    "image = io.imread(image_path, as_gray=True)\n",
    "\n",
    "result_image = median_filter(image,)\n",
    "result_image_uint8 = img_as_ubyte(result_image)\n",
    "\n",
    "io.imsave('images/lena_median.jpg', result_image_uint8)\n"
   ]
  },
  {
   "cell_type": "markdown",
   "id": "66c254ac",
   "metadata": {},
   "source": [
    "## 2. Morfologia Matemática (Erosão e Dilatação)\n",
    "\n",
    "A morfologia matemática é uma técnica de processamento de imagens baseada em operações sobre formas. As operações de erosão e dilatação são usadas para remover ruídos, preencher lacunas e extrair componentes estruturais das imagens."
   ]
  },
  {
   "cell_type": "code",
   "execution_count": 1,
   "id": "e5d77fa6",
   "metadata": {},
   "outputs": [
    {
     "name": "stdout",
     "output_type": "stream",
     "text": [
      "Is the binary image correct? True\n"
     ]
    },
    {
     "name": "stderr",
     "output_type": "stream",
     "text": [
      "Warning: Ignoring XDG_SESSION_TYPE=wayland on Gnome. Use QT_QPA_PLATFORM=wayland to run on Wayland anyway.\n",
      "Only C and default locale supported with the posix collation implementation\n",
      "Only C and default locale supported with the posix collation implementation\n",
      "Case insensitive sorting unsupported in the posix collation implementation\n",
      "Numeric mode unsupported in the posix collation implementation\n",
      "Only C and default locale supported with the posix collation implementation\n",
      "Only C and default locale supported with the posix collation implementation\n",
      "Case insensitive sorting unsupported in the posix collation implementation\n",
      "Numeric mode unsupported in the posix collation implementation\n",
      "Only C and default locale supported with the posix collation implementation\n",
      "Only C and default locale supported with the posix collation implementation\n",
      "Case insensitive sorting unsupported in the posix collation implementation\n",
      "Numeric mode unsupported in the posix collation implementation\n"
     ]
    }
   ],
   "source": [
    "from morphology import *\n",
    "from skimage import io\n",
    "import matplotlib.pyplot as plt\n",
    "import cv2\n",
    "\n",
    "# Função para verificar se a imagem é binária\n",
    "def is_binary_image(image):\n",
    "    return np.array_equal(image, image // 255 * 255)\n",
    "\n",
    "# Carregar a imagem binária\n",
    "image_path = 'images/fingerprint_bin.png'\n",
    "image = cv2.imread(image_path, cv2.IMREAD_GRAYSCALE)\n",
    "_, binary_image = cv2.threshold(image, 127, 255, cv2.THRESH_BINARY)\n",
    "\n",
    "# Verificar se a imagem binária está correta\n",
    "print(\"Is the binary image correct?\", is_binary_image(binary_image))  # Deve retornar True\n",
    "\n",
    "# Definir o kernel\n",
    "kernel = np.ones((1, 2), dtype=np.uint8)\n",
    "\n",
    "# Aplicar dilatação\n",
    "dilated_image = dilation(binary_image, kernel)\n",
    "\n",
    "# Visualizar os resultados\n",
    "cv2.imshow('Original Image', binary_image)\n",
    "cv2.imshow('Dilated Image', dilated_image)\n",
    "cv2.waitKey(0)\n",
    "cv2.destroyAllWindows()"
   ]
  },
  {
   "cell_type": "markdown",
   "id": "21b9b26c",
   "metadata": {},
   "source": [
    "## 3. Limiarização por Média Móvel\n",
    "\n",
    "A limiarização por média móvel é uma técnica de segmentação de imagens que utiliza uma média móvel para determinar o limiar de cada pixel, levando em consideração a intensidade dos pixels vizinhos."
   ]
  },
  {
   "cell_type": "code",
   "execution_count": 25,
   "id": "f1fbefbf",
   "metadata": {},
   "outputs": [],
   "source": [
    "from thresholding import *\n",
    "from skimage import io\n",
    "\n",
    "image_path = 'images/example.webp'\n",
    "image = io.imread(image_path, as_gray=True)\n",
    "\n",
    "thresholded_image = moving_average_threshold(image, 100)\n",
    "result_image_uint8 = thresholded_image.astype(np.uint8)\n",
    "\n",
    "io.imsave('images/example_threshold_100.png', result_image_uint8)\n"
   ]
  },
  {
   "cell_type": "markdown",
   "id": "d64f1952",
   "metadata": {},
   "source": [
    "## 4. Crescimento de Regiões\n",
    "\n",
    "O crescimento de regiões é uma técnica de segmentação que agrupa pixels ou sub-regiões em regiões maiores baseadas em critérios de similaridade. A técnica começa com um ou mais pixels sementes e cresce a região adicionando pixels vizinhos que atendem a critérios específicos."
   ]
  },
  {
   "cell_type": "code",
   "execution_count": 38,
   "id": "af4c25ad",
   "metadata": {},
   "outputs": [],
   "source": [
    "from skimage import io\n",
    "from region_growing import *\n",
    "import cv2\n",
    "\n",
    "image_path = 'images/leaf.png'\n",
    "image = io.imread(image_path, as_gray=True)\n",
    "    \n",
    "image = cv2.normalize(image, None, 0, 255, cv2.NORM_MINMAX)\n",
    "\n",
    "if len(image.shape) == 3:\n",
    "    image = np.mean(image, axis=2).astype(np.uint8)\n",
    "\n",
    "seed = (image.shape[0] // 2, image.shape[1] // 2) \n",
    "threshold = 100\n",
    "\n",
    "grown_region_image = region_growing(image, seed, threshold)\n",
    "result_image_uint8 = grown_region_image.astype(np.uint8)\n",
    "\n",
    "io.imsave('images/leaf_region_growing.png', result_image_uint8)\n"
   ]
  },
  {
   "cell_type": "markdown",
   "id": "c0599a6e",
   "metadata": {},
   "source": [
    "## 5. Watershed\n",
    "\n",
    "O algoritmo de Watershed é uma técnica de segmentação de imagens que vê as imagens em escala de cinza como superfícies topográficas, onde as intensidades dos pixels representam altitudes. As regiões são formadas a partir de linhas de crista que dividem áreas de mínima altitude."
   ]
  },
  {
   "cell_type": "code",
   "execution_count": 52,
   "id": "3faefc74",
   "metadata": {},
   "outputs": [
    {
     "name": "stderr",
     "output_type": "stream",
     "text": [
      "/tmp/ipykernel_140794/492830419.py:18: UserWarning: images/example_2_watershed.png is a low contrast image\n",
      "  io.imsave('images/example_2_watershed.png', result_image_uint8)\n"
     ]
    }
   ],
   "source": [
    "from skimage import io\n",
    "from watershed import *\n",
    "import cv2\n",
    "\n",
    "image_path = 'images/leaf.png'\n",
    "image = io.imread(image_path, as_gray=True)\n",
    "\n",
    "image = cv2.normalize(image, None, 0, 255, cv2.NORM_MINMAX).astype(np.uint8)\n",
    "\n",
    "_, binary_image = cv2.threshold(image, 0, 255, cv2.THRESH_BINARY + cv2.THRESH_OTSU)\n",
    "\n",
    "watershed_image = watershed_segmentation(binary_image)\n",
    "\n",
    "result_image_uint8 = (watershed_image * (255 // watershed_image.max())).astype(np.uint8)\n",
    "\n",
    "io.imsave('images/leaf_watershed.png', result_image_uint8)"
   ]
  },
  {
   "cell_type": "markdown",
   "id": "8fbb8ee2",
   "metadata": {},
   "source": [
    "## 6. Transformada de Hough\n",
    "\n",
    "A Transformada de Hough é uma técnica de detecção de formas que identifica linhas, círculos ou outras formas em uma imagem através de uma transformação paramétrica. É comumente usada para detectar bordas e formas geométricas em imagens."
   ]
  },
  {
   "cell_type": "code",
   "execution_count": 1,
   "id": "ab9f8292",
   "metadata": {},
   "outputs": [
    {
     "name": "stdout",
     "output_type": "stream",
     "text": [
      "0\n"
     ]
    },
    {
     "data": {
      "text/plain": [
       "\" for circle in circles:\\n    x, y, r = circle\\n    cv2.circle(image, (y, x), r, (3, 252, 48), 2)\\n\\ncv2.imshow('Detected Circles', image)\\ncv2.waitKey(0)\\ncv2.destroyAllWindows() \""
      ]
     },
     "execution_count": 1,
     "metadata": {},
     "output_type": "execute_result"
    }
   ],
   "source": [
    "import cv2\n",
    "from hough_transform import hough_circles_optimized\n",
    "\n",
    "image_path = 'images/circles.png'\n",
    "image = cv2.imread(image_path, cv2.IMREAD_GRAYSCALE)\n",
    "_, binary_image = cv2.threshold(image, 127, 255, cv2.THRESH_BINARY)\n",
    "\n",
    "r_min = 20\n",
    "r_max = 200\n",
    "threshold = 365\n",
    "\n",
    "circles = hough_circles_optimized(binary_image, r_min, r_max, threshold)\n",
    "\n",
    "print(len(circles))\n",
    "# Visualizar os círculos detectados\n",
    "\"\"\" for circle in circles:\n",
    "    x, y, r = circle\n",
    "    cv2.circle(image, (y, x), r, (3, 252, 48), 2)\n",
    "\n",
    "cv2.imshow('Detected Circles', image)\n",
    "cv2.waitKey(0)\n",
    "cv2.destroyAllWindows() \"\"\""
   ]
  },
  {
   "cell_type": "code",
   "execution_count": null,
   "id": "9610fcff",
   "metadata": {},
   "outputs": [],
   "source": [
    "from hough_transform import *\n",
    "from skimage import io\n",
    "import cv2\n",
    "\n",
    "image_path = 'images/lines.webp'\n",
    "image_lines = io.imread(image_path, as_gray=True)\n",
    "\n",
    "image_lines = cv2.normalize(image_lines, None, 0, 255, cv2.NORM_MINMAX).astype(np.uint8)\n",
    "_, binary_image = cv2.threshold(image_lines, 0, 255, cv2.THRESH_BINARY + cv2.THRESH_OTSU)\n",
    "\n",
    "r_min = 20\n",
    "r_max = 200\n",
    "threshold = 365\n",
    "\n",
    "lines = hough_circles(binary_image, 10, 100, 50)\n",
    "\n",
    "print(len(lines))\n"
   ]
  }
 ],
 "metadata": {
  "kernelspec": {
   "display_name": "env",
   "language": "python",
   "name": "python3"
  },
  "language_info": {
   "codemirror_mode": {
    "name": "ipython",
    "version": 3
   },
   "file_extension": ".py",
   "mimetype": "text/x-python",
   "name": "python",
   "nbconvert_exporter": "python",
   "pygments_lexer": "ipython3",
   "version": "3.12.3"
  }
 },
 "nbformat": 4,
 "nbformat_minor": 5
}
